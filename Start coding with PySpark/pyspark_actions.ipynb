{
 "cells": [
  {
   "cell_type": "code",
   "execution_count": 5,
   "id": "5e21f7a0",
   "metadata": {
    "editable": false,
    "tags": [
     "setup"
    ]
   },
   "outputs": [],
   "source": [
    "from pyspark.sql import SparkSession\n",
    "student_data = [(\"Chris\",1523,0.72,\"CA\"),\n",
    "                (\"Jake\", 1555,0.83,\"NY\"),\n",
    "                (\"Cody\", 1439,0.92,\"CA\"),\n",
    "                (\"Lisa\",1442,0.81,\"FL\"),\n",
    "                (\"Daniel\",1600,0.88,\"TX\"),\n",
    "                (\"Kelvin\",1382,0.99,\"FL\"),\n",
    "                (\"Nancy\",1442,0.74,\"TX\"),\n",
    "                (\"Pavel\",1599,0.82,\"NY\"),\n",
    "                (\"Josh\",1482,0.78,\"CA\"),\n",
    "                (\"Cynthia\",1582,0.94,\"CA\")]\n",
    "spark = SparkSession.builder.getOrCreate()\n",
    "student_rdd = spark.sparkContext.parallelize(student_data)\n",
    "rdd_transformation = student_rdd.map(lambda x: (x[0], x[1], int(x[2]*100), x[3]))"
   ]
  },
  {
   "cell_type": "markdown",
   "id": "7f3435f6",
   "metadata": {},
   "source": [
    "1. View the first 5 elements of `rdd_transformation`."
   ]
  },
  {
   "cell_type": "code",
   "execution_count": 4,
   "id": "6837f434",
   "metadata": {
    "deletable": false,
    "tags": [
     "cp1"
    ]
   },
   "outputs": [
    {
     "data": {
      "text/plain": [
       "[('Chris', 1523, 72, 'CA'),\n",
       " ('Jake', 1555, 83, 'NY'),\n",
       " ('Cody', 1439, 92, 'CA'),\n",
       " ('Lisa', 1442, 81, 'FL'),\n",
       " ('Daniel', 1600, 88, 'TX')]"
      ]
     },
     "execution_count": 4,
     "metadata": {},
     "output_type": "execute_result"
    }
   ],
   "source": [
    "rdd_transformation.take(5)"
   ]
  },
  {
   "cell_type": "markdown",
   "id": "5e4ea328",
   "metadata": {},
   "source": [
    "2. Sum the grades in `rdd_transformation` and save the result as `sum_gpa`."
   ]
  },
  {
   "cell_type": "code",
   "execution_count": 11,
   "id": "eb65073d",
   "metadata": {
    "deletable": false,
    "tags": [
     "cp2"
    ]
   },
   "outputs": [
    {
     "data": {
      "text/plain": [
       "843"
      ]
     },
     "execution_count": 11,
     "metadata": {},
     "output_type": "execute_result"
    }
   ],
   "source": [
    "# use map to select just the grade columns\n",
    "# then reduce to sum them together\n",
    "sum_gpa = rdd_transformation.map(lambda x: x[2]).reduce(lambda x, y: x+y)\n",
    "\n",
    "# view the sum\n",
    "sum_gpa"
   ]
  },
  {
   "cell_type": "markdown",
   "id": "b4fc45d3",
   "metadata": {},
   "source": [
    "3. Divide `sum_gpa` by `rdd_transformation.count()` to get the average grade."
   ]
  },
  {
   "cell_type": "code",
   "execution_count": 14,
   "id": "3bf10f28",
   "metadata": {
    "deletable": false,
    "tags": [
     "cp3"
    ]
   },
   "outputs": [
    {
     "data": {
      "text/plain": [
       "84.3"
      ]
     },
     "execution_count": 14,
     "metadata": {},
     "output_type": "execute_result"
    }
   ],
   "source": [
    "sum_gpa/rdd_transformation.count()"
   ]
  },
  {
   "cell_type": "code",
   "execution_count": null,
   "id": "43f2431a",
   "metadata": {},
   "outputs": [],
   "source": []
  },
  {
   "cell_type": "code",
   "execution_count": null,
   "id": "0708e1b4",
   "metadata": {},
   "outputs": [],
   "source": []
  }
 ],
 "metadata": {
  "kernelspec": {
   "display_name": "Python 3 (ipykernel)",
   "language": "python",
   "name": "python3"
  },
  "language_info": {
   "codemirror_mode": {
    "name": "ipython",
    "version": 3
   },
   "file_extension": ".py",
   "mimetype": "text/x-python",
   "name": "python",
   "nbconvert_exporter": "python",
   "pygments_lexer": "ipython3",
   "version": "3.8.10"
  }
 },
 "nbformat": 4,
 "nbformat_minor": 5
}
