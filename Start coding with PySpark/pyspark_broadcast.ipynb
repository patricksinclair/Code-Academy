{
 "cells": [
  {
   "cell_type": "code",
   "execution_count": 1,
   "id": "5e21f7a0",
   "metadata": {
    "editable": false,
    "tags": [
     "setup"
    ]
   },
   "outputs": [],
   "source": [
    "from pyspark.sql import SparkSession\n",
    "spark = SparkSession.builder.getOrCreate()\n",
    "student_data = [(\"Chris\",1523,0.72,\"CA\"),\n",
    "                (\"Jake\", 1555,0.83,\"NY\"),\n",
    "                (\"Cody\", 1439,0.92,\"CA\"),\n",
    "                (\"Lisa\",1442,0.81,\"FL\"),\n",
    "                (\"Daniel\",1600,0.88,\"TX\"),\n",
    "                (\"Kelvin\",1382,0.99,\"FL\"),\n",
    "                (\"Nancy\",1442,0.74,\"TX\"),\n",
    "                (\"Pavel\",1599,0.82,\"NY\"),\n",
    "                (\"Josh\",1482,0.78,\"CA\"),\n",
    "                (\"Cynthia\",1582,0.94,\"CA\")]\n",
    "student_rdd = spark.sparkContext.parallelize(student_data)\n",
    "rdd_transformation = student_rdd.map(lambda x: (x[0], x[1], int(x[2]*100), x[3]))\n",
    "\n",
    "states = {\"NY\":\"New York\", \"CA\":\"California\", \"TX\":\"Texas\", \"FL\":\"Florida\"}"
   ]
  },
  {
   "cell_type": "markdown",
   "id": "be8b6065",
   "metadata": {},
   "source": [
    "1. Broadcast the `states` dictionary to Spark Cluster. Save this object as `broadcastStates`."
   ]
  },
  {
   "cell_type": "code",
   "execution_count": 4,
   "id": "c3f85d34",
   "metadata": {
    "deletable": false,
    "tags": [
     "cp1"
    ]
   },
   "outputs": [
    {
     "data": {
      "text/plain": [
       "pyspark.broadcast.Broadcast"
      ]
     },
     "execution_count": 4,
     "metadata": {},
     "output_type": "execute_result"
    }
   ],
   "source": [
    "# make sure to create a dict that's converts one variable \"type\"\n",
    "# to another (type not meaning dtype in this case).\n",
    "# then we turn the conversion dict into a spark-esque variable\n",
    "# so it can interact with our spark data\n",
    "broadcastStates = spark.sparkContext.broadcast(states)\n",
    "\n",
    "# confirm type\n",
    "type(broadcastStates)"
   ]
  },
  {
   "cell_type": "markdown",
   "id": "7717ddb9",
   "metadata": {},
   "source": [
    "2. Reference `broadcastStates` to map the two-letter abbreviations to their full names. Save transformed rdd as `rdd_broadcast`."
   ]
  },
  {
   "cell_type": "code",
   "execution_count": 9,
   "id": "1896a478",
   "metadata": {
    "deletable": false,
    "tags": [
     "cp2"
    ]
   },
   "outputs": [
    {
     "data": {
      "text/plain": [
       "[('Chris', 1523, 72, 'California'),\n",
       " ('Jake', 1555, 83, 'New York'),\n",
       " ('Cody', 1439, 92, 'California'),\n",
       " ('Lisa', 1442, 81, 'Florida'),\n",
       " ('Daniel', 1600, 88, 'Texas'),\n",
       " ('Kelvin', 1382, 99, 'Florida'),\n",
       " ('Nancy', 1442, 74, 'Texas'),\n",
       " ('Pavel', 1599, 82, 'New York'),\n",
       " ('Josh', 1482, 78, 'California'),\n",
       " ('Cynthia', 1582, 94, 'California')]"
      ]
     },
     "execution_count": 9,
     "metadata": {},
     "output_type": "execute_result"
    }
   ],
   "source": [
    "# map the broadcast to the correct entry in the dataset\n",
    "# need to recreate the rest of the dataset columns\n",
    "rdd_broadcast = rdd_transformation.map(lambda x: (x[0], x[1], x[2], broadcastStates.value[x[3]]))\n",
    "\n",
    "# confirm transformation is correct\n",
    "rdd_broadcast.collect()"
   ]
  },
  {
   "cell_type": "code",
   "execution_count": null,
   "id": "b33dc7c2",
   "metadata": {},
   "outputs": [],
   "source": []
  }
 ],
 "metadata": {
  "kernelspec": {
   "display_name": "Python 3 (ipykernel)",
   "language": "python",
   "name": "python3"
  },
  "language_info": {
   "codemirror_mode": {
    "name": "ipython",
    "version": 3
   },
   "file_extension": ".py",
   "mimetype": "text/x-python",
   "name": "python",
   "nbconvert_exporter": "python",
   "pygments_lexer": "ipython3",
   "version": "3.8.10"
  }
 },
 "nbformat": 4,
 "nbformat_minor": 5
}
