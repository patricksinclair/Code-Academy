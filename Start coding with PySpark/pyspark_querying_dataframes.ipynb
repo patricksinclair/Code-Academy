{
 "cells": [
  {
   "cell_type": "code",
   "execution_count": 1,
   "id": "86a209e0",
   "metadata": {
    "editable": false,
    "tags": [
     "setup"
    ]
   },
   "outputs": [],
   "source": [
    "from pyspark.sql import SparkSession\n",
    "\n",
    "# Create a New SparkSession\n",
    "spark = SparkSession \\\n",
    "    .builder \\\n",
    "    .appName(\"learning_spark_sql\") \\\n",
    "    .getOrCreate()\n",
    "\n",
    "# Read in Wikipedia Unique Visitors Dataset\n",
    "wiki_uniq_df = spark.read\\\n",
    "    .option('header', True) \\\n",
    "    .option('delimiter', ',') \\\n",
    "    .option('inferSchema', True) \\\n",
    "    .csv(\"wiki_uniq_march_2022_w_site_type.csv\")"
   ]
  },
  {
   "cell_type": "markdown",
   "id": "388b1337",
   "metadata": {},
   "source": [
    "1. Filter the DataFrame to sites with `language_code` is `\"ar\"`."
   ]
  },
  {
   "cell_type": "code",
   "execution_count": 2,
   "id": "9a98c26a",
   "metadata": {
    "deletable": false,
    "tags": [
     "cp1"
    ]
   },
   "outputs": [
    {
     "name": "stdout",
     "output_type": "stream",
     "text": [
      "+--------------------+-------------------+-----------------+-------------------+-------------+-----------+\n",
      "|              domain|uniq_human_visitors|uniq_bot_visitors|total_visitor_count|language_code|  site_type|\n",
      "+--------------------+-------------------+-----------------+-------------------+-------------+-----------+\n",
      "|  ar.m.wikipedia.org|            1644253|           750620|            2394873|           ar|  wikipedia|\n",
      "|    ar.wikipedia.org|             212695|            97700|             310395|           ar|  wikipedia|\n",
      "| ar.m.wikisource.org|              56124|            52885|             109009|           ar| wikisource|\n",
      "|   ar.wikisource.org|               2134|             4355|               6489|           ar| wikisource|\n",
      "|  ar.m.wikiquote.org|                776|             3511|               4287|           ar|  wikiquote|\n",
      "|   ar.wiktionary.org|                262|             2335|               2597|           ar| wiktionary|\n",
      "| ar.m.wiktionary.org|                448|             1577|               2025|           ar| wiktionary|\n",
      "|ar.m.wikiversity.org|                389|              958|               1347|           ar|wikiversity|\n",
      "|  ar.m.wikibooks.org|                378|              855|               1233|           ar|  wikibooks|\n",
      "+--------------------+-------------------+-----------------+-------------------+-------------+-----------+\n",
      "\n"
     ]
    }
   ],
   "source": [
    "# use filter to only select rows with specified feature values\n",
    "ar_site_visitors = wiki_uniq_df.filter(wiki_uniq_df.language_code=='ar')\n",
    "\n",
    "# show the DataFrame\n",
    "ar_site_visitors.show()"
   ]
  },
  {
   "cell_type": "markdown",
   "id": "1896ef41",
   "metadata": {},
   "source": [
    "2. Filter the DataFrame to sites with `language_code` is `\"ar\"` and keep only the columns `domain` and `uniq_human_visitors`. "
   ]
  },
  {
   "cell_type": "code",
   "execution_count": 4,
   "id": "b647393d",
   "metadata": {
    "deletable": false,
    "tags": [
     "cp2"
    ]
   },
   "outputs": [
    {
     "name": "stdout",
     "output_type": "stream",
     "text": [
      "+--------------------+-------------------+\n",
      "|              domain|uniq_human_visitors|\n",
      "+--------------------+-------------------+\n",
      "|  ar.m.wikipedia.org|            1644253|\n",
      "|    ar.wikipedia.org|             212695|\n",
      "| ar.m.wikisource.org|              56124|\n",
      "|   ar.wikisource.org|               2134|\n",
      "|  ar.m.wikiquote.org|                776|\n",
      "|   ar.wiktionary.org|                262|\n",
      "| ar.m.wiktionary.org|                448|\n",
      "|ar.m.wikiversity.org|                389|\n",
      "|  ar.m.wikibooks.org|                378|\n",
      "+--------------------+-------------------+\n",
      "\n"
     ]
    }
   ],
   "source": [
    "# use select with a list of column names to extract just those columns\n",
    "ar_visitors_slim = wiki_uniq_df.filter(wiki_uniq_df.language_code=='ar')\\\n",
    "                   .select(['domain', 'uniq_human_visitors'])\n",
    "\n",
    "# show the DataFrame\n",
    "ar_visitors_slim.show()"
   ]
  },
  {
   "cell_type": "markdown",
   "id": "9833e75f",
   "metadata": {},
   "source": [
    "3. Calculate the sum of all `uniq_human_visitors` grouped by `site_type` and ordered from highest to lowest page views."
   ]
  },
  {
   "cell_type": "code",
   "execution_count": 12,
   "id": "ef1a1e1d",
   "metadata": {
    "deletable": false,
    "tags": [
     "cp3"
    ]
   },
   "outputs": [
    {
     "name": "stdout",
     "output_type": "stream",
     "text": [
      "+-----------+------------------------+\n",
      "|  site_type|sum(uniq_human_visitors)|\n",
      "+-----------+------------------------+\n",
      "|  wikipedia|               116527479|\n",
      "| wiktionary|                  892193|\n",
      "|  wikimedia|                  312995|\n",
      "| wikisource|                  172179|\n",
      "|   wikidata|                   69744|\n",
      "|  wikibooks|                   54680|\n",
      "|  wikiquote|                   38048|\n",
      "| wikivoyage|                   14648|\n",
      "|       wiki|                   13067|\n",
      "|wikiversity|                   12548|\n",
      "|   wikinews|                    5578|\n",
      "|   wikitech|                     751|\n",
      "+-----------+------------------------+\n",
      "\n"
     ]
    }
   ],
   "source": [
    "# sum() takes the sum\n",
    "# groupBy groups by specified variable values\n",
    "top_visitors_site_type = wiki_uniq_df\\\n",
    "                         .select(['site_type', 'uniq_human_visitors'])\\\n",
    "                         .groupBy('site_type')\\\n",
    "                         .sum()\\\n",
    "                         .orderBy('sum(uniq_human_visitors)', ascending=False)\n",
    "\n",
    "# show the DataFrame\n",
    "top_visitors_site_type.show()"
   ]
  },
  {
   "cell_type": "code",
   "execution_count": null,
   "id": "08198f0c",
   "metadata": {},
   "outputs": [],
   "source": []
  }
 ],
 "metadata": {
  "kernelspec": {
   "display_name": "Python 3 (ipykernel)",
   "language": "python",
   "name": "python3"
  },
  "language_info": {
   "codemirror_mode": {
    "name": "ipython",
    "version": 3
   },
   "file_extension": ".py",
   "mimetype": "text/x-python",
   "name": "python",
   "nbconvert_exporter": "python",
   "pygments_lexer": "ipython3",
   "version": "3.8.10"
  }
 },
 "nbformat": 4,
 "nbformat_minor": 5
}
