{
 "cells": [
  {
   "cell_type": "code",
   "execution_count": 1,
   "id": "5e21f7a0",
   "metadata": {
    "editable": false,
    "tags": [
     "setup"
    ]
   },
   "outputs": [],
   "source": [
    "from pyspark.sql import SparkSession\n",
    "spark = SparkSession.builder.getOrCreate()\n",
    "student_data = [(\"Chris\",1523,0.72,\"CA\"),\n",
    "                (\"Jake\", 1555,0.83,\"NY\"),\n",
    "                (\"Cody\", 1439,0.92,\"CA\"),\n",
    "                (\"Lisa\",1442,0.81,\"FL\"),\n",
    "                (\"Daniel\",1600,0.88,\"TX\"),\n",
    "                (\"Kelvin\",1382,0.99,\"FL\"),\n",
    "                (\"Nancy\",1442,0.74,\"TX\"),\n",
    "                (\"Pavel\",1599,0.82,\"NY\"),\n",
    "                (\"Josh\",1482,0.78,\"CA\"),\n",
    "                (\"Cynthia\",1582,0.94,\"CA\")]\n",
    "student_rdd = spark.sparkContext.parallelize(student_data)\n",
    "rdd_transformation = student_rdd.map(lambda x: (x[0], x[1], int(x[2]*100), x[3]))\n",
    "states = {\"NY\":\"New York\", \"CA\":\"California\", \"TX\":\"Texas\", \"FL\":\"Florida\"}\n",
    "broadcastStates = spark.sparkContext.broadcast(states)\n",
    "rdd_broadcast = rdd_transformation.map(lambda x: (x[0],x[1],x[2],broadcastStates.value[x[3]]))"
   ]
  },
  {
   "cell_type": "markdown",
   "id": "d66c0820",
   "metadata": {},
   "source": [
    "1. Create the accumulator variable that starts at 0 and name it `sat_1500`."
   ]
  },
  {
   "cell_type": "code",
   "execution_count": 2,
   "id": "a92869d9",
   "metadata": {
    "deletable": false,
    "tags": [
     "cp1"
    ]
   },
   "outputs": [
    {
     "data": {
      "text/plain": [
       "pyspark.accumulators.Accumulator"
      ]
     },
     "execution_count": 2,
     "metadata": {},
     "output_type": "execute_result"
    }
   ],
   "source": [
    "# create a spark accumulator variable that will track the no. of\n",
    "# sat scores which are over 1500. this should start at 0\n",
    "sat_1500 = spark.sparkContext.accumulator(0)\n",
    "\n",
    "# confirm type\n",
    "type(sat_1500)"
   ]
  },
  {
   "cell_type": "markdown",
   "id": "e6a47e62",
   "metadata": {},
   "source": [
    "2. Create a function called `count_high_sat_score` that increments our accumulator by 1 whenever it encounters a score of over 1500."
   ]
  },
  {
   "cell_type": "code",
   "execution_count": 3,
   "id": "4de46065",
   "metadata": {
    "deletable": false,
    "tags": [
     "cp2"
    ]
   },
   "outputs": [
    {
     "name": "stdout",
     "output_type": "stream",
     "text": [
      "<function count_high_sat_score at 0x7fef2c9e90d0>\n"
     ]
    }
   ],
   "source": [
    "def count_high_sat_score(r):\n",
    "    # these methods take the row as an argument\n",
    "    # spark will iterate this method over all the rows\n",
    "    if r[1] > 1500: sat_1500.add(1)\n",
    "\n",
    "\n",
    "# confirm saved as a function\n",
    "print(count_high_sat_score)"
   ]
  },
  {
   "cell_type": "markdown",
   "id": "ec7fe470",
   "metadata": {},
   "source": [
    "3. Call `count_high_sat_score` in an action that will apply the function to each element in `rdd_broadcast`."
   ]
  },
  {
   "cell_type": "code",
   "execution_count": 4,
   "id": "08b9f51f",
   "metadata": {
    "deletable": false,
    "tags": [
     "cp3"
    ]
   },
   "outputs": [
    {
     "name": "stdout",
     "output_type": "stream",
     "text": [
      "5\n"
     ]
    }
   ],
   "source": [
    "# now implement this on our spark dataset\n",
    "# we're not transforming anything here\n",
    "# use foreach. this is basically a void\n",
    "rdd_broadcast.foreach(lambda x: count_high_sat_score(x))\n",
    "\n",
    "\n",
    "# confirm accumulator worked\n",
    "print(sat_1500)"
   ]
  },
  {
   "cell_type": "code",
   "execution_count": null,
   "id": "5060fb62",
   "metadata": {},
   "outputs": [],
   "source": []
  }
 ],
 "metadata": {
  "kernelspec": {
   "display_name": "Python 3 (ipykernel)",
   "language": "python",
   "name": "python3"
  },
  "language_info": {
   "codemirror_mode": {
    "name": "ipython",
    "version": 3
   },
   "file_extension": ".py",
   "mimetype": "text/x-python",
   "name": "python",
   "nbconvert_exporter": "python",
   "pygments_lexer": "ipython3",
   "version": "3.8.10"
  }
 },
 "nbformat": 4,
 "nbformat_minor": 5
}
