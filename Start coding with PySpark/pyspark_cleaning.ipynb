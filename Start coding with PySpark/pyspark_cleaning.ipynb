{
 "cells": [
  {
   "cell_type": "code",
   "execution_count": 1,
   "id": "8c1da223",
   "metadata": {
    "editable": false,
    "tags": [
     "setup"
    ]
   },
   "outputs": [],
   "source": [
    "from pyspark.sql import SparkSession\n",
    "\n",
    "spark = SparkSession \\\n",
    "    .builder \\\n",
    "    .appName(\"learning_spark_sql\") \\\n",
    "    .getOrCreate()\n",
    "\n",
    "# read in the Wikipedia unique visitors dataset\n",
    "uniq_views_df = spark.read\\\n",
    "    .option('header', True) \\\n",
    "    .option('delimiter', ',') \\\n",
    "    .option('inferSchema', True) \\\n",
    "    .csv(\"wiki_uniq_march_2022.csv\")"
   ]
  },
  {
   "cell_type": "markdown",
   "id": "f85a3a58",
   "metadata": {},
   "source": [
    "1. Print the DataFrame schema for `uniq_views_df`."
   ]
  },
  {
   "cell_type": "code",
   "execution_count": 2,
   "id": "f2fd9ed0",
   "metadata": {
    "deletable": false,
    "tags": [
     "cp1"
    ]
   },
   "outputs": [
    {
     "name": "stdout",
     "output_type": "stream",
     "text": [
      "root\n",
      " |-- domain: string (nullable = true)\n",
      " |-- uniq_human_visitors: integer (nullable = true)\n",
      " |-- uniq_bot_visitors: integer (nullable = true)\n",
      " |-- total_visitor_count: integer (nullable = true)\n",
      "\n"
     ]
    }
   ],
   "source": [
    "# the schema defines the dataframe's structure columns and datatypes\n",
    "uniq_views_df.printSchema()\n"
   ]
  },
  {
   "cell_type": "markdown",
   "id": "318ab8d4",
   "metadata": {},
   "source": [
    "2. Show a description of the data for `uniq_views_df`."
   ]
  },
  {
   "cell_type": "code",
   "execution_count": 8,
   "id": "f9ea9121",
   "metadata": {
    "deletable": false,
    "tags": [
     "cp2"
    ]
   },
   "outputs": [
    {
     "name": "stdout",
     "output_type": "stream",
     "text": [
      "+-------+----------------+-------------------+-----------------+-------------------+\n",
      "|summary|          domain|uniq_human_visitors|uniq_bot_visitors|total_visitor_count|\n",
      "+-------+----------------+-------------------+-----------------+-------------------+\n",
      "|  count|             760|                760|              760|                760|\n",
      "|   mean|            null|  155413.0394736842| 51431.0552631579| 206844.09473684212|\n",
      "| stddev|            null| 1435327.5409314982| 376318.441663093| 1809320.9789242456|\n",
      "|    min|aa.wikibooks.org|                  0|              170|               1005|\n",
      "|    max|zu.wikipedia.org|           33261399|          8400247|           41661646|\n",
      "+-------+----------------+-------------------+-----------------+-------------------+\n",
      "\n"
     ]
    }
   ],
   "source": [
    "uniq_views_df_desc = uniq_views_df.describe()\n",
    "\n",
    "# show summary\n",
    "uniq_views_df_desc.show()"
   ]
  },
  {
   "cell_type": "markdown",
   "id": "50f231c7",
   "metadata": {},
   "source": [
    "3. Drop the columns `total_visitor_count` and `uniq_bot_visitors`."
   ]
  },
  {
   "cell_type": "code",
   "execution_count": 10,
   "id": "27411787",
   "metadata": {
    "deletable": false,
    "tags": [
     "cp3"
    ]
   },
   "outputs": [
    {
     "name": "stdout",
     "output_type": "stream",
     "text": [
      "+------------------+-------------------+\n",
      "|domain            |uniq_human_visitors|\n",
      "+------------------+-------------------+\n",
      "|en.m.wikipedia.org|33261399           |\n",
      "|en.wikipedia.org  |17009339           |\n",
      "|es.m.wikipedia.org|5668575            |\n",
      "|ru.m.wikipedia.org|5816762            |\n",
      "|ja.m.wikipedia.org|5396108            |\n",
      "+------------------+-------------------+\n",
      "only showing top 5 rows\n",
      "\n"
     ]
    }
   ],
   "source": [
    "# to drop multiple columns, provide them as seperate arguments\n",
    "# NOT as a list etc.\n",
    "uniq_counts_human_df = uniq_views_df.drop('total_visitor_count', 'uniq_bot_visitors')\n",
    "\n",
    "# show the first 5 rows\n",
    "uniq_counts_human_df.show(5, truncate=False)"
   ]
  },
  {
   "cell_type": "markdown",
   "id": "e756d240",
   "metadata": {},
   "source": [
    "4. Rename `uniq_human_visitors` to `unique_site_visitors`."
   ]
  },
  {
   "cell_type": "code",
   "execution_count": 12,
   "id": "6db9d490",
   "metadata": {
    "deletable": false,
    "tags": [
     "cp4"
    ]
   },
   "outputs": [
    {
     "name": "stdout",
     "output_type": "stream",
     "text": [
      "+------------------+--------------------+\n",
      "|            domain|unique_site_visitors|\n",
      "+------------------+--------------------+\n",
      "|en.m.wikipedia.org|            33261399|\n",
      "|  en.wikipedia.org|            17009339|\n",
      "|es.m.wikipedia.org|             5668575|\n",
      "|ru.m.wikipedia.org|             5816762|\n",
      "|ja.m.wikipedia.org|             5396108|\n",
      "+------------------+--------------------+\n",
      "only showing top 5 rows\n",
      "\n"
     ]
    }
   ],
   "source": [
    "## YOUR SOLUTION HERE ##\n",
    "uniq_counts_final_df = uniq_counts_human_df.withColumnRenamed('uniq_human_visitors', 'unique_site_visitors')\n",
    "\n",
    "# show the first 5 rows\n",
    "uniq_counts_final_df.show(5, truncate=True)"
   ]
  },
  {
   "cell_type": "code",
   "execution_count": null,
   "id": "f10a4acb",
   "metadata": {},
   "outputs": [],
   "source": []
  }
 ],
 "metadata": {
  "kernelspec": {
   "display_name": "Python 3 (ipykernel)",
   "language": "python",
   "name": "python3"
  },
  "language_info": {
   "codemirror_mode": {
    "name": "ipython",
    "version": 3
   },
   "file_extension": ".py",
   "mimetype": "text/x-python",
   "name": "python",
   "nbconvert_exporter": "python",
   "pygments_lexer": "ipython3",
   "version": "3.8.10"
  }
 },
 "nbformat": 4,
 "nbformat_minor": 5
}
