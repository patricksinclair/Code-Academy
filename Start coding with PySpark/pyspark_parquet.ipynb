{
 "cells": [
  {
   "cell_type": "code",
   "execution_count": 2,
   "id": "e50116df",
   "metadata": {
    "editable": false,
    "tags": [
     "setup"
    ]
   },
   "outputs": [],
   "source": [
    "from pyspark.sql import SparkSession\n",
    "\n",
    "# Create a new SparkSession\n",
    "spark = SparkSession\\\n",
    "    .builder\\\n",
    "    .config('spark.app.name', 'learning_spark_sql')\\\n",
    "    .getOrCreate()\n",
    "\n",
    "# Read in Wikipedia Unique Visitors Dataset\n",
    "wiki_uniq_df = spark.read\\\n",
    "    .option('header', True) \\\n",
    "    .option('delimiter', ',') \\\n",
    "    .option('inferSchema', True) \\\n",
    "    .csv(\"wiki_uniq_march_2022.csv\")"
   ]
  },
  {
   "cell_type": "markdown",
   "id": "cb2db309",
   "metadata": {},
   "source": [
    "1. Run the code to create a new DataFrame with only `domain` and `uniq_human_visitors`."
   ]
  },
  {
   "cell_type": "code",
   "execution_count": 3,
   "id": "c5e886cf",
   "metadata": {
    "deletable": false,
    "tags": [
     "cp1"
    ]
   },
   "outputs": [
    {
     "name": "stdout",
     "output_type": "stream",
     "text": [
      "+------------------+-------------------+\n",
      "|            domain|uniq_human_visitors|\n",
      "+------------------+-------------------+\n",
      "|en.m.wikipedia.org|           33261399|\n",
      "|  en.wikipedia.org|           17009339|\n",
      "|es.m.wikipedia.org|            5668575|\n",
      "|ru.m.wikipedia.org|            5816762|\n",
      "|ja.m.wikipedia.org|            5396108|\n",
      "|de.m.wikipedia.org|            4439596|\n",
      "|fr.m.wikipedia.org|            3798528|\n",
      "|  ru.wikipedia.org|            2852296|\n",
      "|  es.wikipedia.org|            2460489|\n",
      "|it.m.wikipedia.org|            2806943|\n",
      "|  de.wikipedia.org|            2252670|\n",
      "|  ja.wikipedia.org|            2128471|\n",
      "|  fr.wikipedia.org|            1839196|\n",
      "|zh.m.wikipedia.org|            2123391|\n",
      "|ar.m.wikipedia.org|            1644253|\n",
      "|pt.m.wikipedia.org|            1471752|\n",
      "|pl.m.wikipedia.org|            1410339|\n",
      "|fa.m.wikipedia.org|            1194940|\n",
      "|  zh.wikipedia.org|            1088755|\n",
      "|tr.m.wikipedia.org|             908573|\n",
      "+------------------+-------------------+\n",
      "only showing top 20 rows\n",
      "\n"
     ]
    }
   ],
   "source": [
    "# select only domain and uniq_human visitors\n",
    "uniq_human_visitors_df = wiki_uniq_df\\\n",
    "    .select('domain', 'uniq_human_visitors')\n",
    "\n",
    "# show the new DataFrame\n",
    "uniq_human_visitors_df.show()"
   ]
  },
  {
   "cell_type": "markdown",
   "id": "fbb5c836",
   "metadata": {},
   "source": [
    "2. Save the new DataFrame as CSV files."
   ]
  },
  {
   "cell_type": "code",
   "execution_count": 8,
   "id": "16f0dd2f",
   "metadata": {
    "deletable": false,
    "tags": [
     "cp2"
    ]
   },
   "outputs": [],
   "source": [
    "## YOUR SOLUTION HERE ##\n",
    "uniq_human_visitors_df.write.csv('./results/csv/uniq_human_visitors/', mode='overwrite')"
   ]
  },
  {
   "cell_type": "markdown",
   "id": "17fba9dc",
   "metadata": {},
   "source": [
    "3. Save the new DataFrame as Parquet files."
   ]
  },
  {
   "cell_type": "code",
   "execution_count": 9,
   "id": "c8a21981",
   "metadata": {
    "deletable": false,
    "tags": [
     "cp3"
    ]
   },
   "outputs": [],
   "source": [
    "# replace csv with parquet\n",
    "uniq_human_visitors_df.write.parquet('./results/pq/uniq_human_visitors/', mode='overwrite')"
   ]
  },
  {
   "cell_type": "code",
   "execution_count": null,
   "id": "7234071d",
   "metadata": {},
   "outputs": [],
   "source": []
  }
 ],
 "metadata": {
  "kernelspec": {
   "display_name": "Python 3 (ipykernel)",
   "language": "python",
   "name": "python3"
  },
  "language_info": {
   "codemirror_mode": {
    "name": "ipython",
    "version": 3
   },
   "file_extension": ".py",
   "mimetype": "text/x-python",
   "name": "python",
   "nbconvert_exporter": "python",
   "pygments_lexer": "ipython3",
   "version": "3.8.10"
  }
 },
 "nbformat": 4,
 "nbformat_minor": 5
}
