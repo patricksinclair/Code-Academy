{
 "cells": [
  {
   "cell_type": "code",
   "execution_count": 1,
   "id": "fcd4d991",
   "metadata": {
    "editable": false,
    "tags": [
     "setup"
    ]
   },
   "outputs": [],
   "source": [
    "from pyspark.sql import SparkSession\n",
    "\n",
    "# Create a new SparkSession\n",
    "spark = SparkSession \\\n",
    "    .builder \\\n",
    "    .appName(\"learning_spark_sql\") \\\n",
    "    .getOrCreate()\n",
    "\n",
    "# Read in Wikipedia Unique Visitors Dataset\n",
    "wiki_uniq_df = spark.read\\\n",
    "    .option('header', True) \\\n",
    "    .option('delimiter', ',') \\\n",
    "    .option('inferSchema', True) \\\n",
    "    .csv(\"wiki_uniq_march_2022_w_site_type.csv\")\n",
    "\n",
    "# Create a temporary view with the DataFrame\n",
    "wiki_uniq_df\\\n",
    "    .createOrReplaceTempView('uniq_visitors_march')"
   ]
  },
  {
   "cell_type": "markdown",
   "id": "83fed7f9",
   "metadata": {},
   "source": [
    "1. Filter the DataFrame to sites where `language_code` is `\"ar\"`."
   ]
  },
  {
   "cell_type": "code",
   "execution_count": 2,
   "id": "6620f9f8",
   "metadata": {
    "deletable": false,
    "tags": [
     "cp1"
    ]
   },
   "outputs": [
    {
     "name": "stdout",
     "output_type": "stream",
     "text": [
      "+--------------------+-------------------+-----------------+-------------------+-------------+-----------+\n",
      "|domain              |uniq_human_visitors|uniq_bot_visitors|total_visitor_count|language_code|site_type  |\n",
      "+--------------------+-------------------+-----------------+-------------------+-------------+-----------+\n",
      "|ar.m.wikipedia.org  |1644253            |750620           |2394873            |ar           |wikipedia  |\n",
      "|ar.wikipedia.org    |212695             |97700            |310395             |ar           |wikipedia  |\n",
      "|ar.m.wikisource.org |56124              |52885            |109009             |ar           |wikisource |\n",
      "|ar.wikisource.org   |2134               |4355             |6489               |ar           |wikisource |\n",
      "|ar.m.wikiquote.org  |776                |3511             |4287               |ar           |wikiquote  |\n",
      "|ar.wiktionary.org   |262                |2335             |2597               |ar           |wiktionary |\n",
      "|ar.m.wiktionary.org |448                |1577             |2025               |ar           |wiktionary |\n",
      "|ar.m.wikiversity.org|389                |958              |1347               |ar           |wikiversity|\n",
      "|ar.m.wikibooks.org  |378                |855              |1233               |ar           |wikibooks  |\n",
      "+--------------------+-------------------+-----------------+-------------------+-------------+-----------+\n",
      "\n"
     ]
    }
   ],
   "source": [
    "# write SQL queries in triple quotes to use them to \n",
    "# manipulate pyspark databases\n",
    "# we need to use the \"temporary view\" as the SQL dataframe\n",
    "ar_site_visitors_qry = \"\"\"SELECT * FROM uniq_visitors_march WHERE language_code = 'ar'\"\"\"\n",
    "\n",
    "# show the DataFrame\n",
    "spark.sql(ar_site_visitors_qry).show(truncate=False)"
   ]
  },
  {
   "cell_type": "markdown",
   "id": "86a8eea1",
   "metadata": {},
   "source": [
    "2. Filter the DataFrame to sites with `language_code` is `\"ar\"` and keep only the columns `domain` and `uniq_human_visitors`."
   ]
  },
  {
   "cell_type": "code",
   "execution_count": 3,
   "id": "d5118732",
   "metadata": {
    "deletable": false,
    "tags": [
     "cp2"
    ]
   },
   "outputs": [
    {
     "name": "stdout",
     "output_type": "stream",
     "text": [
      "+--------------------+-------------------+\n",
      "|domain              |uniq_human_visitors|\n",
      "+--------------------+-------------------+\n",
      "|ar.m.wikipedia.org  |1644253            |\n",
      "|ar.wikipedia.org    |212695             |\n",
      "|ar.m.wikisource.org |56124              |\n",
      "|ar.wikisource.org   |2134               |\n",
      "|ar.m.wikiquote.org  |776                |\n",
      "|ar.wiktionary.org   |262                |\n",
      "|ar.m.wiktionary.org |448                |\n",
      "|ar.m.wikiversity.org|389                |\n",
      "|ar.m.wikibooks.org  |378                |\n",
      "+--------------------+-------------------+\n",
      "\n"
     ]
    }
   ],
   "source": [
    "## YOUR SOLUTION HERE ##\n",
    "ar_site_visitors_slim_qry = \"\"\"SELECT domain, uniq_human_visitors\n",
    "                                FROM uniq_visitors_march WHERE language_code='ar'\"\"\"\n",
    "\n",
    "# show the DataFrame\n",
    "spark.sql(ar_site_visitors_slim_qry).show(truncate=False)"
   ]
  },
  {
   "cell_type": "markdown",
   "id": "61e2985e",
   "metadata": {},
   "source": [
    "3. Calculate the sum of all `uniq_human_visitors` grouped by `site_type` and ordered from highest to lowest `uniq_human_visitors`."
   ]
  },
  {
   "cell_type": "code",
   "execution_count": 6,
   "id": "552eeb1d",
   "metadata": {
    "deletable": false,
    "tags": [
     "cp3"
    ]
   },
   "outputs": [
    {
     "name": "stdout",
     "output_type": "stream",
     "text": [
      "+-----------+------------------------+\n",
      "|site_type  |sum(uniq_human_visitors)|\n",
      "+-----------+------------------------+\n",
      "|wikipedia  |116527479               |\n",
      "|wiktionary |892193                  |\n",
      "|wikimedia  |312995                  |\n",
      "|wikisource |172179                  |\n",
      "|wikidata   |69744                   |\n",
      "|wikibooks  |54680                   |\n",
      "|wikiquote  |38048                   |\n",
      "|wikivoyage |14648                   |\n",
      "|wiki       |13067                   |\n",
      "|wikiversity|12548                   |\n",
      "|wikinews   |5578                    |\n",
      "|wikitech   |751                     |\n",
      "+-----------+------------------------+\n",
      "\n"
     ]
    }
   ],
   "source": [
    "## YOUR SOLUTION HERE ##\n",
    "site_top_type_qry = \"\"\"SELECT site_type, SUM(uniq_human_visitors)\n",
    "                    FROM uniq_visitors_march\n",
    "                    GROUP BY site_type\n",
    "                    ORDER BY SUM(uniq_human_visitors) DESC\"\"\"\n",
    "\n",
    "# show the DataFrame\n",
    "spark.sql(site_top_type_qry).show(truncate=False)"
   ]
  },
  {
   "cell_type": "code",
   "execution_count": null,
   "id": "825166d4",
   "metadata": {},
   "outputs": [],
   "source": []
  }
 ],
 "metadata": {
  "kernelspec": {
   "display_name": "Python 3 (ipykernel)",
   "language": "python",
   "name": "python3"
  },
  "language_info": {
   "codemirror_mode": {
    "name": "ipython",
    "version": 3
   },
   "file_extension": ".py",
   "mimetype": "text/x-python",
   "name": "python",
   "nbconvert_exporter": "python",
   "pygments_lexer": "ipython3",
   "version": "3.8.10"
  }
 },
 "nbformat": 4,
 "nbformat_minor": 5
}
